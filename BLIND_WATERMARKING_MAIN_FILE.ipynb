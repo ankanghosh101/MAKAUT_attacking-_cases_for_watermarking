{
 "cells": [
  {
   "cell_type": "code",
   "execution_count": 3,
   "id": "1e75216f",
   "metadata": {},
   "outputs": [],
   "source": [
    "import EMBEDDING as M\n",
    "import EXTRACTION as X\n"
   ]
  },
  {
   "cell_type": "code",
   "execution_count": 2,
   "id": "a51d4a86-61f0-4e11-9b54-7c5c0ed8b355",
   "metadata": {},
   "outputs": [
    {
     "name": "stdout",
     "output_type": "stream",
     "text": [
      "\n",
      "    Extracts hidden images from embedded images using multithreading.\n",
      "\n",
      "    This function processes all images in the specified embedded directory,\n",
      "    extracts hidden images, and saves them in the extracted directory.\n",
      "    It uses multithreading to improve performance.\n",
      "\n",
      "    Parameters:\n",
      "    embedded_DIR_local (str): Path to the directory containing embedded images.\n",
      "                              Defaults to the global 'embedded_DIR'.\n",
      "    extracted_DIR_local (str): Path to the directory where extracted images will be saved.\n",
      "                               Defaults to the global 'extracted_DIR'.\n",
      "    shape (tuple): The shape of the embedded image. Defaults to (32, 32, 3).\n",
      "\n",
      "    Returns:\n",
      "    None\n",
      "\n",
      "    \n"
     ]
    }
   ],
   "source": [
    "M.embed()"
   ]
  },
  {
   "cell_type": "code",
   "execution_count": 3,
   "id": "da78b7ae-2712-4535-97ef-066d23f8025c",
   "metadata": {},
   "outputs": [],
   "source": [
    "print(M.embed.__doc__)"
   ]
  },
  {
   "cell_type": "code",
   "execution_count": null,
   "id": "a6c78e5a-c3e9-4a5c-bf9b-e35466077a2c",
   "metadata": {},
   "outputs": [],
   "source": [
    "X.extract()"
   ]
  },
  {
   "cell_type": "code",
   "execution_count": null,
   "id": "7cd149ab-0f44-4174-8cfa-5fbce3d6ea3b",
   "metadata": {},
   "outputs": [],
   "source": [
    "print(X.extract.__doc__)"
   ]
  }
 ],
 "metadata": {
  "kernelspec": {
   "display_name": "Python 3 (ipykernel)",
   "language": "python",
   "name": "python3"
  },
  "language_info": {
   "codemirror_mode": {
    "name": "ipython",
    "version": 3
   },
   "file_extension": ".py",
   "mimetype": "text/x-python",
   "name": "python",
   "nbconvert_exporter": "python",
   "pygments_lexer": "ipython3",
   "version": "3.10.13"
  }
 },
 "nbformat": 4,
 "nbformat_minor": 5
}
